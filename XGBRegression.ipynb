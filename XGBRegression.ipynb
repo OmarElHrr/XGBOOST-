{
 "cells": [
  {
   "cell_type": "markdown",
   "metadata": {},
   "source": [
    "<div style=\"text-align:center\">\n",
    "  <h1 style=\"color:red;\">XGBOOST ALGORITHM FOR Regression</h1>\n",
    "</div>\n",
    "\n",
    "<div style=\"padding-top:1px;padding-left:20px;\">\n",
    "<h3 style=\"color:green;\">réalisé par :</h3>\n",
    "<div style=\"padding-left:80px;\">\n",
    "<h2>EL HARIRI OMAR</h2>\n",
    "<h2>ASSKLOU MERIEM</h2>\n",
    "</div>\n",
    "<div style=\"padding-top:1px;padding-left:20px;\">\n",
    "<h3 style=\"color:green;\">Encadre par  :</h3>\n",
    "<div style=\"padding-left:80px;\">\n",
    "<h2>Pr. GHAZDALI Abdelghani</h2>\n",
    "<h2>Pr. Khalfi Hamza</h2>\n",
    "</div>\n",
    "</div>"
   ]
  },
  {
   "cell_type": "markdown",
   "metadata": {},
   "source": [
    "# importer les bibliothèques et notre model"
   ]
  },
  {
   "cell_type": "code",
   "execution_count": 1,
   "metadata": {},
   "outputs": [],
   "source": [
    "import XGBRegressor as XGBRegressor\n",
    "import numpy as np\n",
    "import matplotlib.pyplot as plt\n",
    "import seaborn as sns\n",
    "import warnings\n",
    "import pandas as pd\n",
    "from sklearn.preprocessing import LabelEncoder"
   ]
  },
  {
   "cell_type": "markdown",
   "metadata": {},
   "source": [
    "# importer les données\n"
   ]
  },
  {
   "cell_type": "code",
   "execution_count": 2,
   "metadata": {},
   "outputs": [
    {
     "data": {
      "text/html": [
       "<div>\n",
       "<style scoped>\n",
       "    .dataframe tbody tr th:only-of-type {\n",
       "        vertical-align: middle;\n",
       "    }\n",
       "\n",
       "    .dataframe tbody tr th {\n",
       "        vertical-align: top;\n",
       "    }\n",
       "\n",
       "    .dataframe thead th {\n",
       "        text-align: right;\n",
       "    }\n",
       "</style>\n",
       "<table border=\"1\" class=\"dataframe\">\n",
       "  <thead>\n",
       "    <tr style=\"text-align: right;\">\n",
       "      <th></th>\n",
       "      <th>Id</th>\n",
       "      <th>MSSubClass</th>\n",
       "      <th>LotFrontage</th>\n",
       "      <th>LotArea</th>\n",
       "      <th>Street</th>\n",
       "      <th>OverallQual</th>\n",
       "      <th>OverallCond</th>\n",
       "      <th>YearBuilt</th>\n",
       "      <th>YearRemodAdd</th>\n",
       "      <th>MasVnrArea</th>\n",
       "      <th>...</th>\n",
       "      <th>WoodDeckSF</th>\n",
       "      <th>OpenPorchSF</th>\n",
       "      <th>EnclosedPorch</th>\n",
       "      <th>3SsnPorch</th>\n",
       "      <th>ScreenPorch</th>\n",
       "      <th>PoolArea</th>\n",
       "      <th>MiscVal</th>\n",
       "      <th>MoSold</th>\n",
       "      <th>YrSold</th>\n",
       "      <th>SalePrice</th>\n",
       "    </tr>\n",
       "  </thead>\n",
       "  <tbody>\n",
       "    <tr>\n",
       "      <th>0</th>\n",
       "      <td>1</td>\n",
       "      <td>60</td>\n",
       "      <td>65.0</td>\n",
       "      <td>8450</td>\n",
       "      <td>Pave</td>\n",
       "      <td>7</td>\n",
       "      <td>5</td>\n",
       "      <td>2003</td>\n",
       "      <td>2003</td>\n",
       "      <td>196.0</td>\n",
       "      <td>...</td>\n",
       "      <td>0</td>\n",
       "      <td>61</td>\n",
       "      <td>0</td>\n",
       "      <td>0</td>\n",
       "      <td>0</td>\n",
       "      <td>0</td>\n",
       "      <td>0</td>\n",
       "      <td>2</td>\n",
       "      <td>2008</td>\n",
       "      <td>208500</td>\n",
       "    </tr>\n",
       "    <tr>\n",
       "      <th>1</th>\n",
       "      <td>2</td>\n",
       "      <td>20</td>\n",
       "      <td>80.0</td>\n",
       "      <td>9600</td>\n",
       "      <td>Pave</td>\n",
       "      <td>6</td>\n",
       "      <td>8</td>\n",
       "      <td>1976</td>\n",
       "      <td>1976</td>\n",
       "      <td>0.0</td>\n",
       "      <td>...</td>\n",
       "      <td>298</td>\n",
       "      <td>0</td>\n",
       "      <td>0</td>\n",
       "      <td>0</td>\n",
       "      <td>0</td>\n",
       "      <td>0</td>\n",
       "      <td>0</td>\n",
       "      <td>5</td>\n",
       "      <td>2007</td>\n",
       "      <td>181500</td>\n",
       "    </tr>\n",
       "    <tr>\n",
       "      <th>2</th>\n",
       "      <td>3</td>\n",
       "      <td>60</td>\n",
       "      <td>68.0</td>\n",
       "      <td>11250</td>\n",
       "      <td>Pave</td>\n",
       "      <td>7</td>\n",
       "      <td>5</td>\n",
       "      <td>2001</td>\n",
       "      <td>2002</td>\n",
       "      <td>162.0</td>\n",
       "      <td>...</td>\n",
       "      <td>0</td>\n",
       "      <td>42</td>\n",
       "      <td>0</td>\n",
       "      <td>0</td>\n",
       "      <td>0</td>\n",
       "      <td>0</td>\n",
       "      <td>0</td>\n",
       "      <td>9</td>\n",
       "      <td>2008</td>\n",
       "      <td>223500</td>\n",
       "    </tr>\n",
       "    <tr>\n",
       "      <th>3</th>\n",
       "      <td>4</td>\n",
       "      <td>70</td>\n",
       "      <td>60.0</td>\n",
       "      <td>9550</td>\n",
       "      <td>Pave</td>\n",
       "      <td>7</td>\n",
       "      <td>5</td>\n",
       "      <td>1915</td>\n",
       "      <td>1970</td>\n",
       "      <td>0.0</td>\n",
       "      <td>...</td>\n",
       "      <td>0</td>\n",
       "      <td>35</td>\n",
       "      <td>272</td>\n",
       "      <td>0</td>\n",
       "      <td>0</td>\n",
       "      <td>0</td>\n",
       "      <td>0</td>\n",
       "      <td>2</td>\n",
       "      <td>2006</td>\n",
       "      <td>140000</td>\n",
       "    </tr>\n",
       "    <tr>\n",
       "      <th>4</th>\n",
       "      <td>5</td>\n",
       "      <td>60</td>\n",
       "      <td>84.0</td>\n",
       "      <td>14260</td>\n",
       "      <td>Pave</td>\n",
       "      <td>8</td>\n",
       "      <td>5</td>\n",
       "      <td>2000</td>\n",
       "      <td>2000</td>\n",
       "      <td>350.0</td>\n",
       "      <td>...</td>\n",
       "      <td>192</td>\n",
       "      <td>84</td>\n",
       "      <td>0</td>\n",
       "      <td>0</td>\n",
       "      <td>0</td>\n",
       "      <td>0</td>\n",
       "      <td>0</td>\n",
       "      <td>12</td>\n",
       "      <td>2008</td>\n",
       "      <td>250000</td>\n",
       "    </tr>\n",
       "    <tr>\n",
       "      <th>...</th>\n",
       "      <td>...</td>\n",
       "      <td>...</td>\n",
       "      <td>...</td>\n",
       "      <td>...</td>\n",
       "      <td>...</td>\n",
       "      <td>...</td>\n",
       "      <td>...</td>\n",
       "      <td>...</td>\n",
       "      <td>...</td>\n",
       "      <td>...</td>\n",
       "      <td>...</td>\n",
       "      <td>...</td>\n",
       "      <td>...</td>\n",
       "      <td>...</td>\n",
       "      <td>...</td>\n",
       "      <td>...</td>\n",
       "      <td>...</td>\n",
       "      <td>...</td>\n",
       "      <td>...</td>\n",
       "      <td>...</td>\n",
       "      <td>...</td>\n",
       "    </tr>\n",
       "    <tr>\n",
       "      <th>1455</th>\n",
       "      <td>1456</td>\n",
       "      <td>60</td>\n",
       "      <td>62.0</td>\n",
       "      <td>7917</td>\n",
       "      <td>Pave</td>\n",
       "      <td>6</td>\n",
       "      <td>5</td>\n",
       "      <td>1999</td>\n",
       "      <td>2000</td>\n",
       "      <td>0.0</td>\n",
       "      <td>...</td>\n",
       "      <td>0</td>\n",
       "      <td>40</td>\n",
       "      <td>0</td>\n",
       "      <td>0</td>\n",
       "      <td>0</td>\n",
       "      <td>0</td>\n",
       "      <td>0</td>\n",
       "      <td>8</td>\n",
       "      <td>2007</td>\n",
       "      <td>175000</td>\n",
       "    </tr>\n",
       "    <tr>\n",
       "      <th>1456</th>\n",
       "      <td>1457</td>\n",
       "      <td>20</td>\n",
       "      <td>85.0</td>\n",
       "      <td>13175</td>\n",
       "      <td>Pave</td>\n",
       "      <td>6</td>\n",
       "      <td>6</td>\n",
       "      <td>1978</td>\n",
       "      <td>1988</td>\n",
       "      <td>119.0</td>\n",
       "      <td>...</td>\n",
       "      <td>349</td>\n",
       "      <td>0</td>\n",
       "      <td>0</td>\n",
       "      <td>0</td>\n",
       "      <td>0</td>\n",
       "      <td>0</td>\n",
       "      <td>0</td>\n",
       "      <td>2</td>\n",
       "      <td>2010</td>\n",
       "      <td>210000</td>\n",
       "    </tr>\n",
       "    <tr>\n",
       "      <th>1457</th>\n",
       "      <td>1458</td>\n",
       "      <td>70</td>\n",
       "      <td>66.0</td>\n",
       "      <td>9042</td>\n",
       "      <td>Pave</td>\n",
       "      <td>7</td>\n",
       "      <td>9</td>\n",
       "      <td>1941</td>\n",
       "      <td>2006</td>\n",
       "      <td>0.0</td>\n",
       "      <td>...</td>\n",
       "      <td>0</td>\n",
       "      <td>60</td>\n",
       "      <td>0</td>\n",
       "      <td>0</td>\n",
       "      <td>0</td>\n",
       "      <td>0</td>\n",
       "      <td>2500</td>\n",
       "      <td>5</td>\n",
       "      <td>2010</td>\n",
       "      <td>266500</td>\n",
       "    </tr>\n",
       "    <tr>\n",
       "      <th>1458</th>\n",
       "      <td>1459</td>\n",
       "      <td>20</td>\n",
       "      <td>68.0</td>\n",
       "      <td>9717</td>\n",
       "      <td>Pave</td>\n",
       "      <td>5</td>\n",
       "      <td>6</td>\n",
       "      <td>1950</td>\n",
       "      <td>1996</td>\n",
       "      <td>0.0</td>\n",
       "      <td>...</td>\n",
       "      <td>366</td>\n",
       "      <td>0</td>\n",
       "      <td>112</td>\n",
       "      <td>0</td>\n",
       "      <td>0</td>\n",
       "      <td>0</td>\n",
       "      <td>0</td>\n",
       "      <td>4</td>\n",
       "      <td>2010</td>\n",
       "      <td>142125</td>\n",
       "    </tr>\n",
       "    <tr>\n",
       "      <th>1459</th>\n",
       "      <td>1460</td>\n",
       "      <td>20</td>\n",
       "      <td>75.0</td>\n",
       "      <td>9937</td>\n",
       "      <td>Pave</td>\n",
       "      <td>5</td>\n",
       "      <td>6</td>\n",
       "      <td>1965</td>\n",
       "      <td>1965</td>\n",
       "      <td>0.0</td>\n",
       "      <td>...</td>\n",
       "      <td>736</td>\n",
       "      <td>68</td>\n",
       "      <td>0</td>\n",
       "      <td>0</td>\n",
       "      <td>0</td>\n",
       "      <td>0</td>\n",
       "      <td>0</td>\n",
       "      <td>6</td>\n",
       "      <td>2008</td>\n",
       "      <td>147500</td>\n",
       "    </tr>\n",
       "  </tbody>\n",
       "</table>\n",
       "<p>1460 rows × 40 columns</p>\n",
       "</div>"
      ],
      "text/plain": [
       "        Id  MSSubClass  LotFrontage  LotArea Street  OverallQual  OverallCond  \\\n",
       "0        1          60         65.0     8450   Pave            7            5   \n",
       "1        2          20         80.0     9600   Pave            6            8   \n",
       "2        3          60         68.0    11250   Pave            7            5   \n",
       "3        4          70         60.0     9550   Pave            7            5   \n",
       "4        5          60         84.0    14260   Pave            8            5   \n",
       "...    ...         ...          ...      ...    ...          ...          ...   \n",
       "1455  1456          60         62.0     7917   Pave            6            5   \n",
       "1456  1457          20         85.0    13175   Pave            6            6   \n",
       "1457  1458          70         66.0     9042   Pave            7            9   \n",
       "1458  1459          20         68.0     9717   Pave            5            6   \n",
       "1459  1460          20         75.0     9937   Pave            5            6   \n",
       "\n",
       "      YearBuilt  YearRemodAdd  MasVnrArea  ...  WoodDeckSF  OpenPorchSF  \\\n",
       "0          2003          2003       196.0  ...           0           61   \n",
       "1          1976          1976         0.0  ...         298            0   \n",
       "2          2001          2002       162.0  ...           0           42   \n",
       "3          1915          1970         0.0  ...           0           35   \n",
       "4          2000          2000       350.0  ...         192           84   \n",
       "...         ...           ...         ...  ...         ...          ...   \n",
       "1455       1999          2000         0.0  ...           0           40   \n",
       "1456       1978          1988       119.0  ...         349            0   \n",
       "1457       1941          2006         0.0  ...           0           60   \n",
       "1458       1950          1996         0.0  ...         366            0   \n",
       "1459       1965          1965         0.0  ...         736           68   \n",
       "\n",
       "      EnclosedPorch  3SsnPorch ScreenPorch  PoolArea  MiscVal  MoSold  YrSold  \\\n",
       "0                 0          0           0         0        0       2    2008   \n",
       "1                 0          0           0         0        0       5    2007   \n",
       "2                 0          0           0         0        0       9    2008   \n",
       "3               272          0           0         0        0       2    2006   \n",
       "4                 0          0           0         0        0      12    2008   \n",
       "...             ...        ...         ...       ...      ...     ...     ...   \n",
       "1455              0          0           0         0        0       8    2007   \n",
       "1456              0          0           0         0        0       2    2010   \n",
       "1457              0          0           0         0     2500       5    2010   \n",
       "1458            112          0           0         0        0       4    2010   \n",
       "1459              0          0           0         0        0       6    2008   \n",
       "\n",
       "      SalePrice  \n",
       "0        208500  \n",
       "1        181500  \n",
       "2        223500  \n",
       "3        140000  \n",
       "4        250000  \n",
       "...         ...  \n",
       "1455     175000  \n",
       "1456     210000  \n",
       "1457     266500  \n",
       "1458     142125  \n",
       "1459     147500  \n",
       "\n",
       "[1460 rows x 40 columns]"
      ]
     },
     "execution_count": 2,
     "metadata": {},
     "output_type": "execute_result"
    }
   ],
   "source": [
    "\n",
    "df = pd.read_csv(\"Advance House Price Predictions.csv\")\n",
    "df"
   ]
  },
  {
   "cell_type": "markdown",
   "metadata": {},
   "source": [
    "# Encodage des variables catégorielles pour la modélisation"
   ]
  },
  {
   "cell_type": "code",
   "execution_count": 3,
   "metadata": {},
   "outputs": [],
   "source": [
    "le = LabelEncoder()\n",
    "df[\"Street\"] = le.fit_transform(df[\"Street\"])\n",
    "df[\"CentralAir\"] = le.fit_transform(df[\"CentralAir\"])\n"
   ]
  },
  {
   "cell_type": "markdown",
   "metadata": {},
   "source": [
    "# Analyse de la structure des données "
   ]
  },
  {
   "cell_type": "code",
   "execution_count": 4,
   "metadata": {},
   "outputs": [
    {
     "name": "stdout",
     "output_type": "stream",
     "text": [
      "<class 'pandas.core.frame.DataFrame'>\n",
      "RangeIndex: 1460 entries, 0 to 1459\n",
      "Data columns (total 40 columns):\n",
      " #   Column         Non-Null Count  Dtype  \n",
      "---  ------         --------------  -----  \n",
      " 0   Id             1460 non-null   int64  \n",
      " 1   MSSubClass     1460 non-null   int64  \n",
      " 2   LotFrontage    1201 non-null   float64\n",
      " 3   LotArea        1460 non-null   int64  \n",
      " 4   Street         1460 non-null   int32  \n",
      " 5   OverallQual    1460 non-null   int64  \n",
      " 6   OverallCond    1460 non-null   int64  \n",
      " 7   YearBuilt      1460 non-null   int64  \n",
      " 8   YearRemodAdd   1460 non-null   int64  \n",
      " 9   MasVnrArea     1452 non-null   float64\n",
      " 10  BsmtFinSF1     1460 non-null   int64  \n",
      " 11  BsmtFinSF2     1460 non-null   int64  \n",
      " 12  BsmtUnfSF      1460 non-null   int64  \n",
      " 13  TotalBsmtSF    1460 non-null   int64  \n",
      " 14  CentralAir     1460 non-null   int32  \n",
      " 15  1stFlrSF       1460 non-null   int64  \n",
      " 16  2ndFlrSF       1460 non-null   int64  \n",
      " 17  LowQualFinSF   1460 non-null   int64  \n",
      " 18  GrLivArea      1460 non-null   int64  \n",
      " 19  BsmtFullBath   1460 non-null   int64  \n",
      " 20  BsmtHalfBath   1460 non-null   int64  \n",
      " 21  FullBath       1460 non-null   int64  \n",
      " 22  HalfBath       1460 non-null   int64  \n",
      " 23  BedroomAbvGr   1460 non-null   int64  \n",
      " 24  KitchenAbvGr   1460 non-null   int64  \n",
      " 25  TotRmsAbvGrd   1460 non-null   int64  \n",
      " 26  Fireplaces     1460 non-null   int64  \n",
      " 27  GarageYrBlt    1379 non-null   float64\n",
      " 28  GarageCars     1460 non-null   int64  \n",
      " 29  GarageArea     1460 non-null   int64  \n",
      " 30  WoodDeckSF     1460 non-null   int64  \n",
      " 31  OpenPorchSF    1460 non-null   int64  \n",
      " 32  EnclosedPorch  1460 non-null   int64  \n",
      " 33  3SsnPorch      1460 non-null   int64  \n",
      " 34  ScreenPorch    1460 non-null   int64  \n",
      " 35  PoolArea       1460 non-null   int64  \n",
      " 36  MiscVal        1460 non-null   int64  \n",
      " 37  MoSold         1460 non-null   int64  \n",
      " 38  YrSold         1460 non-null   int64  \n",
      " 39  SalePrice      1460 non-null   int64  \n",
      "dtypes: float64(3), int32(2), int64(35)\n",
      "memory usage: 445.0 KB\n"
     ]
    }
   ],
   "source": [
    "df.info()\n"
   ]
  },
  {
   "cell_type": "markdown",
   "metadata": {},
   "source": [
    "# Analyse de la qualité des données : détection et comptage des valeurs manquantes."
   ]
  },
  {
   "cell_type": "code",
   "execution_count": 5,
   "metadata": {},
   "outputs": [
    {
     "data": {
      "text/plain": [
       "Id                 0\n",
       "MSSubClass         0\n",
       "LotFrontage      259\n",
       "LotArea            0\n",
       "Street             0\n",
       "OverallQual        0\n",
       "OverallCond        0\n",
       "YearBuilt          0\n",
       "YearRemodAdd       0\n",
       "MasVnrArea         8\n",
       "BsmtFinSF1         0\n",
       "BsmtFinSF2         0\n",
       "BsmtUnfSF          0\n",
       "TotalBsmtSF        0\n",
       "CentralAir         0\n",
       "1stFlrSF           0\n",
       "2ndFlrSF           0\n",
       "LowQualFinSF       0\n",
       "GrLivArea          0\n",
       "BsmtFullBath       0\n",
       "BsmtHalfBath       0\n",
       "FullBath           0\n",
       "HalfBath           0\n",
       "BedroomAbvGr       0\n",
       "KitchenAbvGr       0\n",
       "TotRmsAbvGrd       0\n",
       "Fireplaces         0\n",
       "GarageYrBlt       81\n",
       "GarageCars         0\n",
       "GarageArea         0\n",
       "WoodDeckSF         0\n",
       "OpenPorchSF        0\n",
       "EnclosedPorch      0\n",
       "3SsnPorch          0\n",
       "ScreenPorch        0\n",
       "PoolArea           0\n",
       "MiscVal            0\n",
       "MoSold             0\n",
       "YrSold             0\n",
       "SalePrice          0\n",
       "dtype: int64"
      ]
     },
     "execution_count": 5,
     "metadata": {},
     "output_type": "execute_result"
    }
   ],
   "source": [
    "df.isnull().sum()"
   ]
  },
  {
   "cell_type": "code",
   "execution_count": 6,
   "metadata": {},
   "outputs": [
    {
     "data": {
      "text/plain": [
       "Id               0.000000\n",
       "FullBath         0.000000\n",
       "HalfBath         0.000000\n",
       "BedroomAbvGr     0.000000\n",
       "KitchenAbvGr     0.000000\n",
       "TotRmsAbvGrd     0.000000\n",
       "Fireplaces       0.000000\n",
       "GarageCars       0.000000\n",
       "BsmtHalfBath     0.000000\n",
       "GarageArea       0.000000\n",
       "OpenPorchSF      0.000000\n",
       "EnclosedPorch    0.000000\n",
       "3SsnPorch        0.000000\n",
       "ScreenPorch      0.000000\n",
       "PoolArea         0.000000\n",
       "MiscVal          0.000000\n",
       "MoSold           0.000000\n",
       "WoodDeckSF       0.000000\n",
       "YrSold           0.000000\n",
       "BsmtFullBath     0.000000\n",
       "LowQualFinSF     0.000000\n",
       "MSSubClass       0.000000\n",
       "LotArea          0.000000\n",
       "Street           0.000000\n",
       "OverallQual      0.000000\n",
       "OverallCond      0.000000\n",
       "YearBuilt        0.000000\n",
       "YearRemodAdd     0.000000\n",
       "GrLivArea        0.000000\n",
       "SalePrice        0.000000\n",
       "BsmtFinSF2       0.000000\n",
       "BsmtUnfSF        0.000000\n",
       "TotalBsmtSF      0.000000\n",
       "CentralAir       0.000000\n",
       "1stFlrSF         0.000000\n",
       "2ndFlrSF         0.000000\n",
       "BsmtFinSF1       0.000000\n",
       "MasVnrArea       0.005479\n",
       "GarageYrBlt      0.055479\n",
       "LotFrontage      0.177397\n",
       "dtype: float64"
      ]
     },
     "execution_count": 6,
     "metadata": {},
     "output_type": "execute_result"
    }
   ],
   "source": [
    "(df.isna().sum()/df.shape[0]).sort_values()"
   ]
  },
  {
   "cell_type": "markdown",
   "metadata": {},
   "source": [
    "# Traitement des données manquantes  : imputation des valeurs manquantes par la moyenne des colonnes."
   ]
  },
  {
   "cell_type": "code",
   "execution_count": 7,
   "metadata": {},
   "outputs": [],
   "source": [
    "df.fillna(df.mean(), inplace=True)"
   ]
  },
  {
   "cell_type": "markdown",
   "metadata": {},
   "source": [
    "# détection  des données en double"
   ]
  },
  {
   "cell_type": "code",
   "execution_count": 9,
   "metadata": {},
   "outputs": [
    {
     "data": {
      "text/plain": [
       "0       False\n",
       "1       False\n",
       "2       False\n",
       "3       False\n",
       "4       False\n",
       "        ...  \n",
       "1455    False\n",
       "1456    False\n",
       "1457    False\n",
       "1458    False\n",
       "1459    False\n",
       "Length: 1460, dtype: bool"
      ]
     },
     "execution_count": 9,
     "metadata": {},
     "output_type": "execute_result"
    }
   ],
   "source": [
    "df.duplicated()"
   ]
  },
  {
   "cell_type": "markdown",
   "metadata": {},
   "source": [
    "Prendre 1000 individus comme échantillon"
   ]
  },
  {
   "cell_type": "code",
   "execution_count": 10,
   "metadata": {},
   "outputs": [],
   "source": [
    "df=df.head(1000)"
   ]
  },
  {
   "cell_type": "code",
   "execution_count": 11,
   "metadata": {},
   "outputs": [],
   "source": [
    "Y = df[\"SalePrice\"]\n",
    "X = df.drop([\"SalePrice\"],axis=1)"
   ]
  },
  {
   "cell_type": "markdown",
   "metadata": {},
   "source": [
    "# Normalisation des données\n"
   ]
  },
  {
   "cell_type": "code",
   "execution_count": 12,
   "metadata": {},
   "outputs": [
    {
     "name": "stdout",
     "output_type": "stream",
     "text": [
      "[[-1.73031962  0.07387196 -0.23576044 ... -0.08641501 -1.60126451\n",
      "   0.1281751 ]\n",
      " [-1.72685552 -0.87320444  0.47555506 ... -0.08641501 -0.4859189\n",
      "  -0.62579607]\n",
      " [-1.72339142  0.07387196 -0.09349734 ... -0.08641501  1.00120857\n",
      "   0.1281751 ]\n",
      " ...\n",
      " [ 1.72339142 -0.87320444  0.00371381 ... -0.08641501 -1.60126451\n",
      "   0.88214626]\n",
      " [ 1.72685552 -0.63643534 -0.4728656  ... -0.08641501 -0.4859189\n",
      "  -1.37976723]\n",
      " [ 1.73031962 -0.87320444 -0.28318147 ... -0.08641501 -1.60126451\n",
      "   1.63611742]]\n"
     ]
    }
   ],
   "source": [
    "from sklearn.preprocessing import StandardScaler\n",
    "from sklearn.model_selection import train_test_split, GridSearchCV\n",
    "scaler = StandardScaler()\n",
    "\n",
    "\n",
    "X = scaler.fit_transform(X)\n",
    "print(X)"
   ]
  },
  {
   "cell_type": "markdown",
   "metadata": {},
   "source": [
    " # Préparation des données pour la prédiction"
   ]
  },
  {
   "cell_type": "code",
   "execution_count": 13,
   "metadata": {},
   "outputs": [],
   "source": [
    "from sklearn.model_selection import train_test_split, GridSearchCV\n",
    "x_train, x_test, y_train, y_test = train_test_split(X,Y,test_size=0.25, random_state=42)"
   ]
  },
  {
   "cell_type": "markdown",
   "metadata": {},
   "source": [
    "# Modélisation de la prédiction des prix des maisons : utilisation de XGBRegressor pour entraîner un modèle de régression."
   ]
  },
  {
   "cell_type": "code",
   "execution_count": 14,
   "metadata": {},
   "outputs": [
    {
     "name": "stdout",
     "output_type": "stream",
     "text": [
      "[0] validation_set-rmse : 55524.07523527991\t[0] train_set-rmse : 62450.4389918741\n",
      "[1] validation_set-rmse : 44621.69353952238\t[1] train_set-rmse : 47191.67061665189\n",
      "[2] validation_set-rmse : 37372.0361031444\t[2] train_set-rmse : 36279.29007514527\n",
      "[3] validation_set-rmse : 33135.3253782363\t[3] train_set-rmse : 28264.56097563848\n",
      "[4] validation_set-rmse : 30169.915619775275\t[4] train_set-rmse : 22393.774369597006\n",
      "[5] validation_set-rmse : 28602.69624811974\t[5] train_set-rmse : 18161.445055953922\n",
      "[6] validation_set-rmse : 27724.363323014728\t[6] train_set-rmse : 14977.865941851385\n",
      "[7] validation_set-rmse : 27344.897052707474\t[7] train_set-rmse : 12674.58295308612\n",
      "[8] validation_set-rmse : 27259.61923549383\t[8] train_set-rmse : 10725.530408140821\n",
      "[9] validation_set-rmse : 26978.076237617996\t[9] train_set-rmse : 9246.900747643685\n",
      "[10] validation_set-rmse : 26830.017694033908\t[10] train_set-rmse : 8167.187206332482\n",
      "[11] validation_set-rmse : 26649.63055922518\t[11] train_set-rmse : 7410.5939887710865\n",
      "[12] validation_set-rmse : 26561.545168862456\t[12] train_set-rmse : 6685.229180373115\n",
      "[13] validation_set-rmse : 26566.95062089017\t[13] train_set-rmse : 6121.21213539807\n",
      "[14] validation_set-rmse : 26531.64006824089\t[14] train_set-rmse : 5538.350174373114\n",
      "[15] validation_set-rmse : 26451.759881970593\t[15] train_set-rmse : 5202.9158205343265\n",
      "[16] validation_set-rmse : 26422.775998304744\t[16] train_set-rmse : 4881.930324093566\n",
      "[17] validation_set-rmse : 26435.67569516367\t[17] train_set-rmse : 4612.102676411408\n",
      "[18] validation_set-rmse : 26386.90654782487\t[18] train_set-rmse : 4383.4706956427835\n",
      "[19] validation_set-rmse : 26446.845862645678\t[19] train_set-rmse : 4090.943893942377\n",
      "[20] validation_set-rmse : 26392.772868274376\t[20] train_set-rmse : 3880.826631342003\n",
      "[21] validation_set-rmse : 26372.664578593394\t[21] train_set-rmse : 3778.0369785489847\n",
      "[22] validation_set-rmse : 26358.325295246566\t[22] train_set-rmse : 3698.9127354236552\n",
      "[23] validation_set-rmse : 26382.43072578699\t[23] train_set-rmse : 3609.6392587537507\n",
      "[24] validation_set-rmse : 26393.45145488102\t[24] train_set-rmse : 3501.484609425311\n",
      "[25] validation_set-rmse : 26451.60385215639\t[25] train_set-rmse : 3307.1142197102886\n",
      "[26] validation_set-rmse : 26447.798386799474\t[26] train_set-rmse : 3222.010780617387\n",
      "[27] validation_set-rmse : 26443.808032707893\t[27] train_set-rmse : 3135.0753344588966\n",
      "[28] validation_set-rmse : 26458.645024125988\t[28] train_set-rmse : 3067.165517198819\n",
      "[29] validation_set-rmse : 26450.126497886406\t[29] train_set-rmse : 2956.414046031682\n",
      "[30] validation_set-rmse : 26466.54820626888\t[30] train_set-rmse : 2776.0305360118523\n",
      "[31] validation_set-rmse : 26454.640404778034\t[31] train_set-rmse : 2619.684307435555\n",
      "[32] validation_set-rmse : 26457.912367017005\t[32] train_set-rmse : 2559.9221384628745\n",
      "[33] validation_set-rmse : 26463.64163066467\t[33] train_set-rmse : 2460.7137143906657\n",
      "[34] validation_set-rmse : 26461.345335920258\t[34] train_set-rmse : 2341.184945541781\n",
      "[35] validation_set-rmse : 26440.084652960373\t[35] train_set-rmse : 2168.110913073694\n",
      "[36] validation_set-rmse : 26442.539478863895\t[36] train_set-rmse : 2040.454639230244\n",
      "[37] validation_set-rmse : 26387.097155215546\t[37] train_set-rmse : 1882.5531455818905\n",
      "[38] validation_set-rmse : 26393.96612919148\t[38] train_set-rmse : 1727.5820657087902\n",
      "[39] validation_set-rmse : 26396.109797510344\t[39] train_set-rmse : 1608.9889715187578\n"
     ]
    }
   ],
   "source": [
    "model  = XGBRegressor.XGBRegressor(n_estimators=40)\n",
    "model.fit(x_train, y_train, eval_set = (x_test, y_test))"
   ]
  },
  {
   "cell_type": "markdown",
   "metadata": {},
   "source": [
    "# Visualisation de l'historique d'entraînement du modèle XGBoost"
   ]
  },
  {
   "cell_type": "code",
   "execution_count": 15,
   "metadata": {},
   "outputs": [
    {
     "data": {
      "text/plain": [
       "<Axes: >"
      ]
     },
     "execution_count": 15,
     "metadata": {},
     "output_type": "execute_result"
    },
    {
     "data": {
      "image/png": "[encoded data removed]",
      "text/plain": [
       "<Figure size 1000x800 with 1 Axes>"
      ]
     },
     "metadata": {},
     "output_type": "display_data"
    }
   ],
   "source": [
    "plt.figure(figsize=(10, 8))\n",
    "results = model.history\n",
    "sns.lineplot(y = results[\"train\"], x = range(len(results[\"train\"])), label=\"xgboost \")"
   ]
  },
  {
   "cell_type": "markdown",
   "metadata": {},
   "source": [
    "# Calcul de l'erreur quadratique moyenne et du coefficient de détermination pour le modèle XGBoost"
   ]
  },
  {
   "cell_type": "code",
   "execution_count": 16,
   "metadata": {},
   "outputs": [
    {
     "data": {
      "text/plain": [
       "0.8570323360717026"
      ]
     },
     "execution_count": 16,
     "metadata": {},
     "output_type": "execute_result"
    }
   ],
   "source": [
    "from sklearn.metrics import mean_squared_error\n",
    "y_pred = model.predict(x_test)\n",
    "mse = mean_squared_error(y_test, y_pred)\n",
    "\n",
    "from sklearn.metrics import r2_score\n",
    "\n",
    "\n",
    "\n",
    "r2_score(y_test, y_pred)"
   ]
  }
 ],
 "metadata": {
  "kernelspec": {
   "display_name": "Python 3.10.0 64-bit",
   "language": "python",
   "name": "python3"
  },
  "language_info": {
   "codemirror_mode": {
    "name": "ipython",
    "version": 3
   },
   "file_extension": ".py",
   "mimetype": "text/x-python",
   "name": "python",
   "nbconvert_exporter": "python",
   "pygments_lexer": "ipython3",
   "version": "3.10.0"
  },
  "orig_nbformat": 4,
  "vscode": {
   "interpreter": {
    "hash": "1edc62f120aaeff0a4868739404cae12e6eacc77759be20fcf0474be9ee58eeb"
   }
  }
 },
 "nbformat": 4,
 "nbformat_minor": 2
}
